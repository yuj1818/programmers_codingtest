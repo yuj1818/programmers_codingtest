{
  "nbformat": 4,
  "nbformat_minor": 0,
  "metadata": {
    "colab": {
      "name": "올바른 괄호.ipynb",
      "provenance": [],
      "collapsed_sections": [],
      "authorship_tag": "ABX9TyMVZxpQHazswhuq5WsJUhRd",
      "include_colab_link": true
    },
    "kernelspec": {
      "name": "python3",
      "display_name": "Python 3"
    },
    "language_info": {
      "name": "python"
    }
  },
  "cells": [
    {
      "cell_type": "markdown",
      "metadata": {
        "id": "view-in-github",
        "colab_type": "text"
      },
      "source": [
        "<a href=\"https://colab.research.google.com/github/yuj1818/programmers_codingtest/blob/main/%EC%98%AC%EB%B0%94%EB%A5%B8_%EA%B4%84%ED%98%B8.ipynb\" target=\"_parent\"><img src=\"https://colab.research.google.com/assets/colab-badge.svg\" alt=\"Open In Colab\"/></a>"
      ]
    },
    {
      "cell_type": "code",
      "execution_count": 31,
      "metadata": {
        "colab": {
          "base_uri": "https://localhost:8080/"
        },
        "id": "4z7V2gEnMfq1",
        "outputId": "35e885f0-4972-4a74-fd43-876591f3048a"
      },
      "outputs": [
        {
          "output_type": "execute_result",
          "data": {
            "text/plain": [
              "False"
            ]
          },
          "metadata": {},
          "execution_count": 31
        }
      ],
      "source": [
        "def solution(s):\n",
        "    pair = []\n",
        "    for i in s:\n",
        "        if i == \"(\":\n",
        "            pair.append(i)\n",
        "        else:\n",
        "            if len(pair) == 0:\n",
        "                return False\n",
        "            else:\n",
        "                pair.pop()\n",
        "    return len(pair) == 0\n",
        "    print(pair)\n",
        "solution(\"())(()\")"
      ]
    }
  ]
}