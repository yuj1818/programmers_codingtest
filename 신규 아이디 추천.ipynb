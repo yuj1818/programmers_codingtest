{
 "cells": [
  {
   "cell_type": "code",
   "execution_count": 74,
   "id": "70ff525d",
   "metadata": {},
   "outputs": [
    {
     "data": {
      "text/plain": [
       "'aaa'"
      ]
     },
     "execution_count": 74,
     "metadata": {},
     "output_type": "execute_result"
    }
   ],
   "source": [
    "def solution(new_id):\n",
    "    new_id = new_id.lower()    #1단계 소문자로 변경\n",
    "    for i in ['!','@','#','*','~','$','%','^','&','(',')','=','+','[','{',']','}',':','?',',','<','>','/']:    #2단계 !,@,#,* 문자 제거\n",
    "        new_id = new_id.replace(i,\"\")\n",
    "    answer = list(new_id)    #3단계 2번 이상 연속된 '.'제거하기\n",
    "    rmv_list = []\n",
    "    for j in range(0,len(answer)-1):\n",
    "        if answer[j] == answer[j+1] and answer[j] == '.':\n",
    "            rmv_list.append(j)\n",
    "    cnt = 0\n",
    "    for k in rmv_list:\n",
    "        del answer[k+cnt]\n",
    "        cnt -= 1\n",
    "    if answer[0] == '.':    #4단계 처음이나 끝에 위치한 '.' 제거하기\n",
    "        del answer[0]\n",
    "    if len(answer) != 0:\n",
    "        if answer[len(answer)-1] == '.':\n",
    "            del answer[len(answer)-1]\n",
    "        \n",
    "    if len(answer) == 0:    #5단계 빈 문자열이라면 'a'를 대입\n",
    "        answer.append('a')\n",
    "    if len(answer) > 15:    #6단계 15자를 제외한 나머지 문자 제거\n",
    "        answer = answer[0:15]\n",
    "    if answer[len(answer)-1] == '.':\n",
    "        del answer[len(answer)-1]\n",
    "    if len(answer) <= 2:\n",
    "        answer.append(answer[len(answer)-1])\n",
    "        if len(answer) <= 2:\n",
    "            answer.append(answer[len(answer)-1])\n",
    "    answer = ''.join(answer)\n",
    "    return answer\n",
    "\n",
    "solution(\"=.=\")"
   ]
  }
 ],
 "metadata": {
  "kernelspec": {
   "display_name": "Python 3 (ipykernel)",
   "language": "python",
   "name": "python3"
  },
  "language_info": {
   "codemirror_mode": {
    "name": "ipython",
    "version": 3
   },
   "file_extension": ".py",
   "mimetype": "text/x-python",
   "name": "python",
   "nbconvert_exporter": "python",
   "pygments_lexer": "ipython3",
   "version": "3.9.7"
  }
 },
 "nbformat": 4,
 "nbformat_minor": 5
}
