{
  "nbformat": 4,
  "nbformat_minor": 0,
  "metadata": {
    "colab": {
      "provenance": [],
      "authorship_tag": "ABX9TyM5Nl8IKCrvjDfPndEdSR94",
      "include_colab_link": true
    },
    "kernelspec": {
      "name": "python3",
      "display_name": "Python 3"
    },
    "language_info": {
      "name": "python"
    }
  },
  "cells": [
    {
      "cell_type": "markdown",
      "metadata": {
        "id": "view-in-github",
        "colab_type": "text"
      },
      "source": [
        "<a href=\"https://colab.research.google.com/github/yuj1818/programmers_codingtest/blob/main/%EA%B7%A4_%EA%B3%A0%EB%A5%B4%EA%B8%B0.ipynb\" target=\"_parent\"><img src=\"https://colab.research.google.com/assets/colab-badge.svg\" alt=\"Open In Colab\"/></a>"
      ]
    },
    {
      "cell_type": "code",
      "execution_count": 5,
      "metadata": {
        "colab": {
          "base_uri": "https://localhost:8080/"
        },
        "id": "nT_hp4GXRaIy",
        "outputId": "59fa5e8e-9c89-489b-f275-cf6e02e1eb92"
      },
      "outputs": [
        {
          "output_type": "execute_result",
          "data": {
            "text/plain": [
              "3"
            ]
          },
          "metadata": {},
          "execution_count": 5
        }
      ],
      "source": [
        "def solution(k, tangerine):\n",
        "    answer = 0\n",
        "    tan_dict = dict()\n",
        "    for i in tangerine:\n",
        "        if i in tan_dict.keys():\n",
        "            tan_dict[i] += 1\n",
        "        else:\n",
        "            tan_dict[i] = 1\n",
        "    sorted_tan = sorted(tan_dict.items(), key=lambda x:x[1], reverse=True)\n",
        "    total = 0\n",
        "    for i in sorted_tan:\n",
        "        total += i[1]\n",
        "        answer += 1\n",
        "        if total >= k:\n",
        "            break\n",
        "    \n",
        "    return answer\n",
        "\n",
        "solution(6, [1, 3, 2, 5, 4, 5, 2, 3])"
      ]
    }
  ]
}