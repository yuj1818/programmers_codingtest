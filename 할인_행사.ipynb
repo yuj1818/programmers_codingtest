{
  "nbformat": 4,
  "nbformat_minor": 0,
  "metadata": {
    "colab": {
      "provenance": [],
      "authorship_tag": "ABX9TyNDAHC1ZC/1d5M9c2mXS95b"
    },
    "kernelspec": {
      "name": "python3",
      "display_name": "Python 3"
    },
    "language_info": {
      "name": "python"
    }
  },
  "cells": [
    {
      "cell_type": "code",
      "execution_count": 6,
      "metadata": {
        "colab": {
          "base_uri": "https://localhost:8080/"
        },
        "id": "f5x02s0mX0-O",
        "outputId": "aff455ff-522d-46c2-9b32-2a709f81264d"
      },
      "outputs": [
        {
          "output_type": "execute_result",
          "data": {
            "text/plain": [
              "3"
            ]
          },
          "metadata": {},
          "execution_count": 6
        }
      ],
      "source": [
        "def solution(want, number, discount):\n",
        "    answer = 0\n",
        "    while len(discount) >= sum(number):\n",
        "      sig = 0\n",
        "      for obj, amount in zip(want,number):\n",
        "        if discount[(len(discount)-sum(number)):].count(obj) != amount:\n",
        "          sig = 1\n",
        "          break\n",
        "      discount.pop()\n",
        "      if sig == 0:\n",
        "        answer += 1\n",
        "        \n",
        "    return answer\n",
        "\n",
        "solution([\"banana\", \"apple\", \"rice\", \"pork\", \"pot\"],\t[3, 2, 2, 2, 1],\t[\"chicken\", \"apple\", \"apple\", \"banana\", \"rice\", \"apple\", \"pork\", \"banana\", \"pork\", \"rice\", \"pot\", \"banana\", \"apple\", \"banana\"])"
      ]
    }
  ]
}