def solution(dartResult):
    answer = 0
    value = 0
    flag = 0
    sequence = []
    for i in dartResult:
        if i.isdigit() == True:
            if flag == 0:
                num = int(i)
                flag = 1
            elif flag == 1:
                num = int(str(num)+i)
        else:
            if i == "S":
                value = value + num**1
                sequence.append(value)
                print(value)
            elif i == "D":
                value = value + num**2
                sequence.append(value)
                print(value)
            elif i == "T":
                value = value + num**3
                sequence.append(value)
                print(value)
            elif i == "*":
                if len(sequence) == 1:
                    sequence[0] *= 2
                elif len(sequence) == 2:
                    sequence[0] *= 2
                    sequence[1] *= 2
                elif len(sequence) == 3:
                    sequence[1] *= 2
                    sequence[2] *= 2
            elif i == "#":
                if len(sequence) == 1:
                    sequence[0] = sequence[0] * -1
                elif len(sequence) == 2:
                    sequence[1] = sequence[1] * -1
                elif len(sequence) == 3:
                    sequence[2] = sequence[2] * -1
            value = 0
            flag = 0
    print(sequence)
    answer = sequence[0]+sequence[1]+sequence[2]
    return answer

solution("1D#2S*3S")
