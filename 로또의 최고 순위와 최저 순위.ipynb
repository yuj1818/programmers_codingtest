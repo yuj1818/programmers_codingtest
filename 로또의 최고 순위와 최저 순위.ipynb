{
 "cells": [
  {
   "cell_type": "code",
   "execution_count": 1,
   "id": "566b0ee0",
   "metadata": {},
   "outputs": [
    {
     "data": {
      "text/plain": [
       "[1, 6]"
      ]
     },
     "execution_count": 1,
     "metadata": {},
     "output_type": "execute_result"
    }
   ],
   "source": [
    "def solution(lottos, win_nums):\n",
    "    answer = []\n",
    "    rank_list = [6,5,4,3,2]\n",
    "    zero_cnt = lottos.count(0)\n",
    "    win_num = 0\n",
    "    for i in lottos:\n",
    "        if i in win_nums:\n",
    "            win_num += 1\n",
    "            \n",
    "    if win_num >= 2:\n",
    "        answer.append(rank_list.index(win_num+zero_cnt)+1)\n",
    "        answer.append(rank_list.index(win_num)+1)\n",
    "    elif win_num == 0 and zero_cnt == 0:\n",
    "        answer = [6,6]\n",
    "    else:\n",
    "        answer.append(rank_list.index(win_num+zero_cnt)+1)\n",
    "        answer.append(6)\n",
    "    return answer\n",
    "\n",
    "solution([0, 0, 0, 0, 0, 0],[38, 19, 20, 40, 15, 25])"
   ]
  },
  {
   "cell_type": "code",
   "execution_count": null,
   "id": "37c72d9b",
   "metadata": {},
   "outputs": [],
   "source": []
  }
 ],
 "metadata": {
  "kernelspec": {
   "display_name": "Python 3 (ipykernel)",
   "language": "python",
   "name": "python3"
  },
  "language_info": {
   "codemirror_mode": {
    "name": "ipython",
    "version": 3
   },
   "file_extension": ".py",
   "mimetype": "text/x-python",
   "name": "python",
   "nbconvert_exporter": "python",
   "pygments_lexer": "ipython3",
   "version": "3.9.7"
  }
 },
 "nbformat": 4,
 "nbformat_minor": 5
}
