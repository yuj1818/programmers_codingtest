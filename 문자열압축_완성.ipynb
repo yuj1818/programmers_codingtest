{
  "nbformat": 4,
  "nbformat_minor": 0,
  "metadata": {
    "colab": {
      "name": "Untitled0.ipynb",
      "provenance": [],
      "collapsed_sections": [],
      "authorship_tag": "ABX9TyP0kCAV4ZzyVtaZh1mWJSfR",
      "include_colab_link": true
    },
    "kernelspec": {
      "name": "python3",
      "display_name": "Python 3"
    },
    "language_info": {
      "name": "python"
    }
  },
  "cells": [
    {
      "cell_type": "markdown",
      "metadata": {
        "id": "view-in-github",
        "colab_type": "text"
      },
      "source": [
        "<a href=\"https://colab.research.google.com/github/yuj1818/programmers_codingtest/blob/main/%EB%AC%B8%EC%9E%90%EC%97%B4%EC%95%95%EC%B6%95_%EC%99%84%EC%84%B1.ipynb\" target=\"_parent\"><img src=\"https://colab.research.google.com/assets/colab-badge.svg\" alt=\"Open In Colab\"/></a>"
      ]
    },
    {
      "cell_type": "code",
      "source": [
        "def solution(s):\n",
        "    answer = \"\"\n",
        "    slc_list = []\n",
        "    not_same = []\n",
        "    find_keys = []\n",
        "    empty_list = []\n",
        "    answer_list = []\n",
        "    not_same_length = {}\n",
        "    if len(s) == 1:\n",
        "        return 1\n",
        "    for i in range(1,int(len(s)/2)+1):\n",
        "        for j in range(0,len(s),i):\n",
        "            slc_list.append(s[j:j+i])\n",
        "\n",
        "        for k in range(0,len(slc_list)-1):\n",
        "            if len(slc_list[k])==i:\n",
        "                if slc_list[k] != slc_list[k+1]:\n",
        "                    not_same.append(k)\n",
        "        not_same_length[i] = len(not_same)\n",
        "\n",
        "    \n",
        "        if len(not_same) == 0:\n",
        "            empty_list.append(slc_list[0:])\n",
        "        for x in range(0,len(not_same)):\n",
        "            if len(not_same) != 1:\n",
        "                if x == 0:\n",
        "                    empty_list.append(slc_list[0:not_same[x]+1])\n",
        "                elif x == len(not_same)-1:\n",
        "                    empty_list.append(slc_list[not_same[x-1]+1:not_same[x]+1])\n",
        "                    empty_list.append(slc_list[not_same[x]+1:])\n",
        "                else:\n",
        "                    empty_list.append(slc_list[not_same[x-1]+1:not_same[x]+1])\n",
        "            else:\n",
        "                empty_list.append(slc_list[0:not_same[x]+1])\n",
        "                empty_list.append(slc_list[not_same[x]+1:])\n",
        "\n",
        "        for y in empty_list:\n",
        "            number = y.count(y[0])\n",
        "            for z in range(number-1):\n",
        "                y.remove(y[0])\n",
        "            if number != 1:\n",
        "                answer = answer + str(number) + y[0]\n",
        "            else:\n",
        "                answer = answer + y[0]\n",
        "        answer_list.append(len(answer))\n",
        "\n",
        "        answer = \"\"\n",
        "        slc_list = []\n",
        "        not_same = [] \n",
        "        empty_list = []\n",
        "    return min(answer_list)\n",
        "\n",
        "solution(\"ababcdcdababcdcd\")"
      ],
      "metadata": {
        "colab": {
          "base_uri": "https://localhost:8080/"
        },
        "id": "H6_LS3ZDFQe4",
        "outputId": "12c93ed6-0303-4440-be75-bc91a955120d"
      },
      "execution_count": 1,
      "outputs": [
        {
          "output_type": "execute_result",
          "data": {
            "text/plain": [
              "9"
            ]
          },
          "metadata": {},
          "execution_count": 1
        }
      ]
    }
  ]
}