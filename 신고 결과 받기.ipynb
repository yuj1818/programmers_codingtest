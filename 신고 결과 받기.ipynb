{
 "cells": [
  {
   "cell_type": "code",
   "execution_count": 32,
   "id": "66e32eb0",
   "metadata": {},
   "outputs": [
    {
     "name": "stdout",
     "output_type": "stream",
     "text": [
      "{'muzi frodo', 'muzi neo', 'apeach frodo', 'frodo neo', 'apeach muzi'}\n",
      "{'frodo': ['muzi', 'apeach'], 'neo': ['muzi', 'frodo'], 'muzi': ['apeach']}\n",
      "['muzi', 'apeach', 'muzi', 'frodo']\n"
     ]
    },
    {
     "data": {
      "text/plain": [
       "[2, 1, 1, 0]"
      ]
     },
     "execution_count": 32,
     "metadata": {},
     "output_type": "execute_result"
    }
   ],
   "source": [
    "def solution(id_list, report, k):\n",
    "    answer = []\n",
    "    dict_r = {}\n",
    "    dict_answer = {}\n",
    "    report_list = []\n",
    "    rmv_same = set(report)  #동일한 유저에 대한 신고 횟수 1회로 처리\n",
    "    print(rmv_same)\n",
    "    for i in rmv_same:\n",
    "        reporter, reported = i.split(' ')\n",
    "        if dict_r.get(reported)== None:\n",
    "            reporter_list = []\n",
    "            reporter_list.append(reporter)\n",
    "            dict_r[reported] = reporter_list\n",
    "        else:\n",
    "            dict_r[reported].append(reporter)\n",
    "            \n",
    "    print(dict_r)\n",
    "    \n",
    "    for j in id_list:\n",
    "        if j not in dict_r:\n",
    "            continue\n",
    "        elif len(dict_r[j]) >= k:\n",
    "            for x in dict_r[j]:\n",
    "                report_list.append(x)\n",
    "    print(report_list)\n",
    "    for y in range(0,len(id_list)):\n",
    "        answer.append(report_list.count(id_list[y]))\n",
    "    return answer\n",
    "\n",
    "solution([\"muzi\", \"frodo\", \"apeach\", \"neo\"],[\"muzi frodo\",\"apeach frodo\",\"frodo neo\",\"muzi neo\",\"apeach muzi\"],2)"
   ]
  },
  {
   "cell_type": "code",
   "execution_count": 7,
   "id": "dc29bfb2",
   "metadata": {},
   "outputs": [
    {
     "data": {
      "text/plain": [
       "2"
      ]
     },
     "execution_count": 7,
     "metadata": {},
     "output_type": "execute_result"
    }
   ],
   "source": [
    "diction = {'kim':['muzi','frodo']}\n",
    "len(diction['kim'])"
   ]
  }
 ],
 "metadata": {
  "kernelspec": {
   "display_name": "Python 3 (ipykernel)",
   "language": "python",
   "name": "python3"
  },
  "language_info": {
   "codemirror_mode": {
    "name": "ipython",
    "version": 3
   },
   "file_extension": ".py",
   "mimetype": "text/x-python",
   "name": "python",
   "nbconvert_exporter": "python",
   "pygments_lexer": "ipython3",
   "version": "3.9.7"
  }
 },
 "nbformat": 4,
 "nbformat_minor": 5
}
