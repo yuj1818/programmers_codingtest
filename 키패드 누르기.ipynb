{
 "cells": [
  {
   "cell_type": "code",
   "execution_count": 8,
   "id": "f30defe5",
   "metadata": {},
   "outputs": [
    {
     "data": {
      "text/plain": [
       "'LRLLLRLLRRL'"
      ]
     },
     "execution_count": 8,
     "metadata": {},
     "output_type": "execute_result"
    }
   ],
   "source": [
    "def solution(numbers, hand):\n",
    "    answer = ''\n",
    "    LH = [0,3]\n",
    "    RH = [2,3]\n",
    "    point = [[1,3],[0,0],[1,0],[2,0],[0,1],[1,1],[2,1],[0,2],[1,2],[2,2]]\n",
    "    for i in numbers:\n",
    "        if i in [1,4,7]:\n",
    "            answer += 'L'\n",
    "            LH = point[i]\n",
    "        elif i in [3,6,9]:\n",
    "            answer += 'R'\n",
    "            RH = point[i]\n",
    "        else:\n",
    "            l_distance = abs(LH[0]-point[i][0])+abs(LH[1]-point[i][1])\n",
    "            r_distance = abs(RH[0]-point[i][0])+abs(RH[1]-point[i][1])\n",
    "            if l_distance>r_distance:\n",
    "                answer += 'R'\n",
    "                RH = point[i]\n",
    "            elif r_distance>l_distance:\n",
    "                answer += 'L'\n",
    "                LH = point[i]\n",
    "            else:\n",
    "                if hand == 'right':\n",
    "                    answer += 'R'\n",
    "                    RH = point[i]\n",
    "                else:\n",
    "                    answer += 'L'\n",
    "                    LH = point[i]\n",
    "    return answer\n",
    "solution([1, 3, 4, 5, 8, 2, 1, 4, 5, 9, 5],\"right\")"
   ]
  }
 ],
 "metadata": {
  "kernelspec": {
   "display_name": "Python 3 (ipykernel)",
   "language": "python",
   "name": "python3"
  },
  "language_info": {
   "codemirror_mode": {
    "name": "ipython",
    "version": 3
   },
   "file_extension": ".py",
   "mimetype": "text/x-python",
   "name": "python",
   "nbconvert_exporter": "python",
   "pygments_lexer": "ipython3",
   "version": "3.9.7"
  }
 },
 "nbformat": 4,
 "nbformat_minor": 5
}
