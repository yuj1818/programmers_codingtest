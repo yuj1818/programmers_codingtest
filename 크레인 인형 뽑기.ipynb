{
 "cells": [
  {
   "cell_type": "code",
   "execution_count": 33,
   "id": "b8098708",
   "metadata": {},
   "outputs": [
    {
     "name": "stdout",
     "output_type": "stream",
     "text": [
      "[4, 2, 4]\n"
     ]
    },
    {
     "data": {
      "text/plain": [
       "4"
      ]
     },
     "execution_count": 33,
     "metadata": {},
     "output_type": "execute_result"
    }
   ],
   "source": [
    "def solution(board, moves):\n",
    "    answer = 0\n",
    "    bucket = []\n",
    "    for i in moves:\n",
    "        for j in range(len(board)):\n",
    "            if board[j][i-1] != 0:\n",
    "                if len(bucket) == 0:\n",
    "                    bucket.append(board[j][i-1])\n",
    "                    board[j][i-1] = 0\n",
    "                    break\n",
    "                else:\n",
    "                    if bucket[-1] == board[j][i-1]:\n",
    "                        board[j][i-1] = 0\n",
    "                        bucket.pop(-1)\n",
    "                        answer += 2\n",
    "                        break\n",
    "                    else:\n",
    "                        bucket.append(board[j][i-1])\n",
    "                        board[j][i-1] = 0\n",
    "                        break\n",
    "    print(bucket)\n",
    "    return answer\n",
    "solution([[0,0,0,0,0],[0,0,1,0,3],[0,2,5,0,1],[4,2,4,4,2],[3,5,1,3,1]],[1,5,3,5,1,2,1,4])"
   ]
  }
 ],
 "metadata": {
  "kernelspec": {
   "display_name": "Python 3 (ipykernel)",
   "language": "python",
   "name": "python3"
  },
  "language_info": {
   "codemirror_mode": {
    "name": "ipython",
    "version": 3
   },
   "file_extension": ".py",
   "mimetype": "text/x-python",
   "name": "python",
   "nbconvert_exporter": "python",
   "pygments_lexer": "ipython3",
   "version": "3.9.7"
  }
 },
 "nbformat": 4,
 "nbformat_minor": 5
}
