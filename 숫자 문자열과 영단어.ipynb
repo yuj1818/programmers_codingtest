{
 "cells": [
  {
   "cell_type": "code",
   "execution_count": 1,
   "id": "06c3a9a3",
   "metadata": {},
   "outputs": [
    {
     "data": {
      "text/plain": [
       "22478"
      ]
     },
     "execution_count": 1,
     "metadata": {},
     "output_type": "execute_result"
    }
   ],
   "source": [
    "def solution(s):\n",
    "    answer = \"\"\n",
    "    number = {\"zero\":0, \"one\":1, \"two\":2, \"three\":3, \"four\":4, \"five\":5, \"six\":6, \"seven\":7, \"eight\":8, \"nine\":9}\n",
    "    word = \"\"\n",
    "    for i in s:\n",
    "        if i.isdigit():\n",
    "            answer += i\n",
    "        else:\n",
    "            word += i\n",
    "            if word in number.keys():\n",
    "                answer += str(number[word])\n",
    "            else:\n",
    "                continue\n",
    "        word = \"\"\n",
    "\n",
    "    return int(answer)\n",
    "    \n",
    "solution(\"twotwofour7eight\")"
   ]
  },
  {
   "cell_type": "code",
   "execution_count": 3,
   "id": "748c3b14",
   "metadata": {},
   "outputs": [
    {
     "data": {
      "text/plain": [
       "22478"
      ]
     },
     "execution_count": 3,
     "metadata": {},
     "output_type": "execute_result"
    }
   ],
   "source": [
    "def solution(s):\n",
    "    number = {\"zero\":0, \"one\":1, \"two\":2, \"three\":3, \"four\":4, \"five\":5, \"six\":6, \"seven\":7, \"eight\":8, \"nine\":9}\n",
    "    for i in number.keys():\n",
    "        s = s.replace(i,str(number[i]))\n",
    "    return int(s)\n",
    "\n",
    "solution(\"twotwofour7eight\")"
   ]
  }
 ],
 "metadata": {
  "kernelspec": {
   "display_name": "Python 3 (ipykernel)",
   "language": "python",
   "name": "python3"
  },
  "language_info": {
   "codemirror_mode": {
    "name": "ipython",
    "version": 3
   },
   "file_extension": ".py",
   "mimetype": "text/x-python",
   "name": "python",
   "nbconvert_exporter": "python",
   "pygments_lexer": "ipython3",
   "version": "3.9.7"
  }
 },
 "nbformat": 4,
 "nbformat_minor": 5
}
