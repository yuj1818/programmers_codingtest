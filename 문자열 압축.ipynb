{
 "cells": [
  {
   "cell_type": "code",
   "execution_count": 38,
   "id": "f6ee797e",
   "metadata": {},
   "outputs": [
    {
     "name": "stdout",
     "output_type": "stream",
     "text": [
      "['a', 'a', 'b', 'b', 'a', 'c', 'c', 'c']\n",
      "[0, 2, 5, 6]\n",
      "[2, 'a', 'b', 'b', 'a', 'c', 'c', 'c']\n",
      "[2, 'a', 2, 'b', 'a', 'c', 'c', 'c']\n",
      "[2, 'a', 2, 'b', 'a', 2, 'c', 'c']\n",
      "[2, 'a', 2, 'b', 'a', 'c', 3]\n",
      "['aa', 'bb', 'ac', 'cc']\n",
      "[]\n",
      "['aab', 'bac', 'cc']\n",
      "[]\n",
      "['aabb', 'accc']\n",
      "[]\n",
      "['aabba', 'ccc']\n",
      "[]\n",
      "['aabbac', 'cc']\n",
      "[]\n",
      "['aabbacc', 'c']\n",
      "[]\n"
     ]
    },
    {
     "data": {
      "text/plain": [
       "[]"
      ]
     },
     "execution_count": 38,
     "metadata": {},
     "output_type": "execute_result"
    }
   ],
   "source": [
    "def solution(s):\n",
    "    answer = []\n",
    "    slc_list = []\n",
    "    rmv_list = []\n",
    "    cnt = 2\n",
    "    for i in range(1,len(s)):\n",
    "        for j in range(0,len(s),i):\n",
    "            slc_list.append(s[j:j+i])\n",
    "        print(slc_list)\n",
    "        for k in range(0,len(slc_list)-1):\n",
    "            if len(slc_list[k]) == len(slc_list[k+1]) and len(slc_list[k]) == i:\n",
    "                if slc_list[k] == slc_list[k+1]:\n",
    "                    rmv_list.append(k)\n",
    "        print(rmv_list)\n",
    "        for x in rmv_list:\n",
    "            del slc_list[x]\n",
    "            cnt = 2\n",
    "            if (x-1) in rmv_list:\n",
    "                cnt += 1\n",
    "                del slc_list[x-1]\n",
    "            slc_list.insert(x, cnt)\n",
    "            print(slc_list)\n",
    "        rmv_list = []\n",
    "        slc_list = []\n",
    "    return answer\n",
    "\n",
    "solution(\"aabbaccc\")"
   ]
  },
  {
   "cell_type": "code",
   "execution_count": 98,
   "id": "07234cd2",
   "metadata": {},
   "outputs": [
    {
     "name": "stdout",
     "output_type": "stream",
     "text": [
      "['a', 'b', 'b', 'b', 'a', 'b', 'c', 'c', 'c']\n",
      "[['a'], ['b', 'b', 'b'], ['a'], ['b'], ['c', 'c', 'c']]\n",
      "1a3b1a1b3c\n",
      "[10]\n",
      "['ab', 'bb', 'ab', 'cc', 'c']\n",
      "[['ab'], ['bb'], ['ab'], ['cc', 'c']]\n",
      "1ab1bb1ab1cc\n",
      "[10, 12]\n",
      "['abb', 'bab', 'ccc']\n",
      "[['abb'], ['bab'], ['ccc']]\n",
      "1abb1bab1ccc\n",
      "[10, 12, 12]\n",
      "['abbb', 'abcc', 'c']\n",
      "[['abbb']]\n",
      "1abbb\n",
      "[10, 12, 12, 5]\n",
      "['abbba', 'bccc']\n",
      "[]\n",
      "\n",
      "[10, 12, 12, 5, 0]\n",
      "['abbbab', 'ccc']\n",
      "[]\n",
      "\n",
      "[10, 12, 12, 5, 0, 0]\n",
      "['abbbabc', 'cc']\n",
      "[]\n",
      "\n",
      "[10, 12, 12, 5, 0, 0, 0]\n",
      "['abbbabcc', 'c']\n",
      "[]\n",
      "\n",
      "[10, 12, 12, 5, 0, 0, 0, 0]\n"
     ]
    },
    {
     "data": {
      "text/plain": [
       "0"
      ]
     },
     "execution_count": 98,
     "metadata": {},
     "output_type": "execute_result"
    }
   ],
   "source": [
    "def solution(s):\n",
    "    answer = \"\"\n",
    "    slc_list = []\n",
    "    rmv_list = []\n",
    "    not_same = []\n",
    "    empty_list = []\n",
    "    answer_list = []\n",
    "    for i in range(1,len(s)):\n",
    "        for j in range(0,len(s),i):\n",
    "            slc_list.append(s[j:j+i])\n",
    "        print(slc_list)\n",
    "        for k in range(0,len(slc_list)-1):\n",
    "            if len(slc_list[k]) == len(slc_list[k+1]) and len(slc_list[k]) == i:\n",
    "                if slc_list[k] != slc_list[k+1]:\n",
    "                    not_same.append(k)\n",
    "        \n",
    "        for x in range(0,len(not_same)):\n",
    "            if x == 0:\n",
    "                empty_list.append(slc_list[0:not_same[x]+1])\n",
    "            elif x == len(not_same)-1:\n",
    "                empty_list.append(slc_list[not_same[x-1]+1:not_same[x]+1])\n",
    "                empty_list.append(slc_list[not_same[x]+1:])\n",
    "            else:\n",
    "                empty_list.append(slc_list[not_same[x-1]+1:not_same[x]+1])\n",
    "#         empty_list.append(slc_list[0:not_same[0]+1])\n",
    "#         empty_list.append(slc_list[not_same[0]+1:not_same[1]+1])\n",
    "#         empty_list.append(slc_list[not_same[1]+1:not_same[2]+1])\n",
    "#         empty_list.append(slc_list[not_same[2]+1:])\n",
    "            \n",
    "        print(empty_list)\n",
    "        for y in empty_list:\n",
    "            number = y.count(y[0])\n",
    "            for z in range(number-1):\n",
    "                y.remove(y[0])\n",
    "            answer = answer + str(number) + y[0]\n",
    "        answer_list.append(len(answer))\n",
    "        print(answer)\n",
    "        print(answer_list)\n",
    "        answer = \"\"\n",
    "        empty_list = []\n",
    "        not_same = []\n",
    "        rmv_list = []\n",
    "        slc_list = []\n",
    "    return min(answer_list)\n",
    "\n",
    "solution(\"abbbabccc\")"
   ]
  }
 ],
 "metadata": {
  "kernelspec": {
   "display_name": "Python 3 (ipykernel)",
   "language": "python",
   "name": "python3"
  },
  "language_info": {
   "codemirror_mode": {
    "name": "ipython",
    "version": 3
   },
   "file_extension": ".py",
   "mimetype": "text/x-python",
   "name": "python",
   "nbconvert_exporter": "python",
   "pygments_lexer": "ipython3",
   "version": "3.9.7"
  }
 },
 "nbformat": 4,
 "nbformat_minor": 5
}
