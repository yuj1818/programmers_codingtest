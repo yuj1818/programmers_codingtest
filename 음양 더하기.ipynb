{
 "cells": [
  {
   "cell_type": "code",
   "execution_count": 11,
   "id": "fa29fcf6",
   "metadata": {},
   "outputs": [
    {
     "data": {
      "text/plain": [
       "9"
      ]
     },
     "execution_count": 11,
     "metadata": {},
     "output_type": "execute_result"
    }
   ],
   "source": [
    "def solution(absolutes, signs):\n",
    "    answer = 0\n",
    "    for x in range(len(signs)):\n",
    "        if signs[x] == True:\n",
    "            signs[x] = 1\n",
    "        else:\n",
    "            signs[x] = -1\n",
    "    for i in zip(absolutes,signs):\n",
    "        answer += i[0]*i[1]\n",
    "    return answer\n",
    "solution([4,7,12],[True,False,True])"
   ]
  }
 ],
 "metadata": {
  "kernelspec": {
   "display_name": "Python 3 (ipykernel)",
   "language": "python",
   "name": "python3"
  },
  "language_info": {
   "codemirror_mode": {
    "name": "ipython",
    "version": 3
   },
   "file_extension": ".py",
   "mimetype": "text/x-python",
   "name": "python",
   "nbconvert_exporter": "python",
   "pygments_lexer": "ipython3",
   "version": "3.9.7"
  }
 },
 "nbformat": 4,
 "nbformat_minor": 5
}
