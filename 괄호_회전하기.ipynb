{
  "nbformat": 4,
  "nbformat_minor": 0,
  "metadata": {
    "colab": {
      "name": "괄호 회전하기.ipynb",
      "provenance": [],
      "authorship_tag": "ABX9TyMFMwSSxOpnHknIgUSYZMaZ"
    },
    "kernelspec": {
      "name": "python3",
      "display_name": "Python 3"
    },
    "language_info": {
      "name": "python"
    }
  },
  "cells": [
    {
      "cell_type": "code",
      "execution_count": 10,
      "metadata": {
        "colab": {
          "base_uri": "https://localhost:8080/"
        },
        "id": "rtBGD5yFPis_",
        "outputId": "3550ce04-d792-4bc3-f1ba-bba668b9e6c7"
      },
      "outputs": [
        {
          "output_type": "execute_result",
          "data": {
            "text/plain": [
              "2"
            ]
          },
          "metadata": {},
          "execution_count": 10
        }
      ],
      "source": [
        "def solution(s):\n",
        "    answer = 0\n",
        "    for i in range(len(s)):\n",
        "        if(check(s[i:] + s[:i])):\n",
        "            answer += 1\n",
        "    return answer\n",
        "\n",
        "def check(s):\n",
        "    pair = []\n",
        "    bracket_1 = [\"[\", \"(\", \"{\"]\n",
        "    bracket_2 = [\"]\", \")\", \"}\"]\n",
        "    for i in s:\n",
        "        if i in bracket_1:\n",
        "            pair.append(i)\n",
        "        else:\n",
        "            if pair and pair[-1] in bracket_1 and bracket_1.index(pair[-1]) == bracket_2.index(i):\n",
        "                pair.pop()\n",
        "            else:\n",
        "                pair.append(i)\n",
        "    \n",
        "    return True if not pair else False\n",
        "    \n",
        "solution(\"}]()[{\")"
      ]
    }
  ]
}