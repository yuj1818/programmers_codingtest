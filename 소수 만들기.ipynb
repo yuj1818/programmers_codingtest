{
 "cells": [
  {
   "cell_type": "code",
   "execution_count": 6,
   "id": "4a7e31bd",
   "metadata": {},
   "outputs": [
    {
     "data": {
      "text/plain": [
       "4"
      ]
     },
     "execution_count": 6,
     "metadata": {},
     "output_type": "execute_result"
    }
   ],
   "source": [
    "from itertools import combinations\n",
    "def solution(nums):\n",
    "    answer = 0\n",
    "    cnt = 0\n",
    "    for i in combinations(nums,3):\n",
    "        for j in range(2,sum(i)):\n",
    "            if sum(i)%j == 0:\n",
    "                cnt += 1\n",
    "        if cnt == 0:\n",
    "            answer += 1\n",
    "        cnt = 0\n",
    "    return answer\n",
    "\n",
    "solution([1,2,7,6,4])"
   ]
  }
 ],
 "metadata": {
  "kernelspec": {
   "display_name": "Python 3 (ipykernel)",
   "language": "python",
   "name": "python3"
  },
  "language_info": {
   "codemirror_mode": {
    "name": "ipython",
    "version": 3
   },
   "file_extension": ".py",
   "mimetype": "text/x-python",
   "name": "python",
   "nbconvert_exporter": "python",
   "pygments_lexer": "ipython3",
   "version": "3.9.7"
  }
 },
 "nbformat": 4,
 "nbformat_minor": 5
}
