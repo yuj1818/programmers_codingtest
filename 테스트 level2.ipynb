{
 "cells": [
  {
   "cell_type": "code",
   "execution_count": 13,
   "id": "c8409799",
   "metadata": {},
   "outputs": [
    {
     "name": "stdout",
     "output_type": "stream",
     "text": [
      "set_s: ['4', '1', '2', '3']\n",
      "count: [1, 3, 4, 2]\n",
      "2\n",
      "1\n",
      "3\n",
      "4\n"
     ]
    },
    {
     "data": {
      "text/plain": [
       "['2', '1', '3', '4']"
      ]
     },
     "execution_count": 13,
     "metadata": {},
     "output_type": "execute_result"
    }
   ],
   "source": [
    "def solution(s):\n",
    "    answer = []\n",
    "    count_s = []\n",
    "    s = s.replace(\"{\",\"\")\n",
    "    s = s.replace(\"}\",\"\")\n",
    "    s = s.split(',')\n",
    "    s = sorted(s)\n",
    "    set_s = list(set(s))\n",
    "    for i in set_s:\n",
    "        count_s.append(s.count(i))\n",
    "    for j in range(len(set_s)):\n",
    "        answer.append(set_s[count_s.index(max(count_s))])\n",
    "        count_s[count_s.index(max(count_s))] = 0\n",
    "    return answer\n",
    "\n",
    "solution(\"{{2},{2,1},{2,1,3},{2,1,3,4}}\")"
   ]
  }
 ],
 "metadata": {
  "kernelspec": {
   "display_name": "Python 3 (ipykernel)",
   "language": "python",
   "name": "python3"
  },
  "language_info": {
   "codemirror_mode": {
    "name": "ipython",
    "version": 3
   },
   "file_extension": ".py",
   "mimetype": "text/x-python",
   "name": "python",
   "nbconvert_exporter": "python",
   "pygments_lexer": "ipython3",
   "version": "3.9.7"
  }
 },
 "nbformat": 4,
 "nbformat_minor": 5
}
