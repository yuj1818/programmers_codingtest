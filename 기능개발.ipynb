{
  "nbformat": 4,
  "nbformat_minor": 0,
  "metadata": {
    "colab": {
      "name": "기능개발.ipynb",
      "provenance": [],
      "authorship_tag": "ABX9TyOdPoEtwnXLTpDMpVcyiCtl",
      "include_colab_link": true
    },
    "kernelspec": {
      "name": "python3",
      "display_name": "Python 3"
    },
    "language_info": {
      "name": "python"
    }
  },
  "cells": [
    {
      "cell_type": "markdown",
      "metadata": {
        "id": "view-in-github",
        "colab_type": "text"
      },
      "source": [
        "<a href=\"https://colab.research.google.com/github/yuj1818/programmers_codingtest/blob/main/%EA%B8%B0%EB%8A%A5%EA%B0%9C%EB%B0%9C.ipynb\" target=\"_parent\"><img src=\"https://colab.research.google.com/assets/colab-badge.svg\" alt=\"Open In Colab\"/></a>"
      ]
    },
    {
      "cell_type": "code",
      "execution_count": 16,
      "metadata": {
        "colab": {
          "base_uri": "https://localhost:8080/"
        },
        "id": "5vpQjcglNIrO",
        "outputId": "6d42c2c9-e6a4-4a10-b519-766bfb639e00"
      },
      "outputs": [
        {
          "output_type": "execute_result",
          "data": {
            "text/plain": [
              "[1, 3, 2]"
            ]
          },
          "metadata": {},
          "execution_count": 16
        }
      ],
      "source": [
        "def solution(progresses, speeds):\n",
        "    answer = []\n",
        "    day = 0\n",
        "\n",
        "    while progresses:\n",
        "        cnt = 0\n",
        "        \n",
        "        progresses = [x + y for x, y in zip(progresses, speeds)]\n",
        "        \n",
        "        while progresses and progresses[0]>=100:\n",
        "            cnt += 1\n",
        "            del progresses[0]\n",
        "            del speeds[0]\n",
        "            \n",
        "        if cnt > 0:\n",
        "            answer.append(cnt)\n",
        "\n",
        "        # print(f'day{day} {progresses} {cnt}')\n",
        "        day += 1\n",
        "    return answer\n",
        "    \n",
        "\n",
        "solution([95, 90, 99, 99, 80, 99],\t[1, 1, 1, 1, 1, 1]\t)"
      ]
    },
    {
      "cell_type": "code",
      "source": [
        ""
      ],
      "metadata": {
        "id": "SdVQeR_qNcvs"
      },
      "execution_count": null,
      "outputs": []
    }
  ]
}