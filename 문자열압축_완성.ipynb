def solution(s):
    answer = ""
    slc_list = []
    not_same = []
    find_keys = []
    empty_list = []
    answer_list = []
    not_same_length = {}
    if len(s) == 1:
        return 1
    for i in range(1,int(len(s)/2)+1):
        for j in range(0,len(s),i):
            slc_list.append(s[j:j+i])

        for k in range(0,len(slc_list)-1):
            if len(slc_list[k])==i:
                if slc_list[k] != slc_list[k+1]:
                    not_same.append(k)
        not_same_length[i] = len(not_same)

    
        if len(not_same) == 0:
            empty_list.append(slc_list[0:])
        for x in range(0,len(not_same)):
            if len(not_same) != 1:
                if x == 0:
                    empty_list.append(slc_list[0:not_same[x]+1])
                elif x == len(not_same)-1:
                    empty_list.append(slc_list[not_same[x-1]+1:not_same[x]+1])
                    empty_list.append(slc_list[not_same[x]+1:])
                else:
                    empty_list.append(slc_list[not_same[x-1]+1:not_same[x]+1])
            else:
                empty_list.append(slc_list[0:not_same[x]+1])
                empty_list.append(slc_list[not_same[x]+1:])

        for y in empty_list:
            number = y.count(y[0])
            for z in range(number-1):
                y.remove(y[0])
            if number != 1:
                answer = answer + str(number) + y[0]
            else:
                answer = answer + y[0]
        answer_list.append(len(answer))

        answer = ""
        slc_list = []
        not_same = [] 
        empty_list = []
    return min(answer_list)
