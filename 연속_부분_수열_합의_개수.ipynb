{
  "nbformat": 4,
  "nbformat_minor": 0,
  "metadata": {
    "colab": {
      "provenance": [],
      "authorship_tag": "ABX9TyOcVy9MI+baKWT3FyEJFTSU"
    },
    "kernelspec": {
      "name": "python3",
      "display_name": "Python 3"
    },
    "language_info": {
      "name": "python"
    }
  },
  "cells": [
    {
      "cell_type": "code",
      "execution_count": 11,
      "metadata": {
        "colab": {
          "base_uri": "https://localhost:8080/"
        },
        "id": "HWTK-sHhTI_k",
        "outputId": "fb61d07b-ff59-4f05-f577-e2010b4b8161"
      },
      "outputs": [
        {
          "output_type": "execute_result",
          "data": {
            "text/plain": [
              "18"
            ]
          },
          "metadata": {},
          "execution_count": 11
        }
      ],
      "source": [
        "def solution(elements):\n",
        "    answer = 0\n",
        "    sum_list = []\n",
        "    \n",
        "    initEl = elements\n",
        "    \n",
        "    for i in range(1, len(elements)+1):\n",
        "        while True:\n",
        "            sum_list.append(sum(elements[0:i]))\n",
        "            elements = elements[1:] + elements[0:1]\n",
        "            if elements == initEl:\n",
        "                break\n",
        "                \n",
        "    answer = len(set(sum_list))\n",
        "    \n",
        "    return answer\n",
        "\n",
        "solution([7,9,1,1,4])"
      ]
    }
  ]
}