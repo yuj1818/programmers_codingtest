{
 "cells": [
  {
   "cell_type": "code",
   "execution_count": 20,
   "id": "fd866d4e",
   "metadata": {},
   "outputs": [
    {
     "name": "stdout",
     "output_type": "stream",
     "text": [
      "1\n",
      "2\n",
      "3\n",
      "[-2, 4, 3]\n"
     ]
    },
    {
     "data": {
      "text/plain": [
       "5"
      ]
     },
     "execution_count": 20,
     "metadata": {},
     "output_type": "execute_result"
    }
   ],
   "source": [
    "def solution(dartResult):\n",
    "    answer = 0\n",
    "    value = 0\n",
    "    flag = 0\n",
    "    sequence = []\n",
    "    for i in dartResult:\n",
    "        if i.isdigit() == True:\n",
    "            if flag == 0:\n",
    "                num = int(i)\n",
    "                flag = 1\n",
    "            elif flag == 1:\n",
    "                num = int(str(num)+i)\n",
    "        else:\n",
    "            if i == \"S\":\n",
    "                value = value + num**1\n",
    "                sequence.append(value)\n",
    "                print(value)\n",
    "            elif i == \"D\":\n",
    "                value = value + num**2\n",
    "                sequence.append(value)\n",
    "                print(value)\n",
    "            elif i == \"T\":\n",
    "                value = value + num**3\n",
    "                sequence.append(value)\n",
    "                print(value)\n",
    "            elif i == \"*\":\n",
    "                if len(sequence) == 1:\n",
    "                    sequence[0] *= 2\n",
    "                elif len(sequence) == 2:\n",
    "                    sequence[0] *= 2\n",
    "                    sequence[1] *= 2\n",
    "                elif len(sequence) == 3:\n",
    "                    sequence[1] *= 2\n",
    "                    sequence[2] *= 2\n",
    "            elif i == \"#\":\n",
    "                if len(sequence) == 1:\n",
    "                    sequence[0] = sequence[0] * -1\n",
    "                elif len(sequence) == 2:\n",
    "                    sequence[1] = sequence[1] * -1\n",
    "                elif len(sequence) == 3:\n",
    "                    sequence[2] = sequence[2] * -1\n",
    "            value = 0\n",
    "            flag = 0\n",
    "    print(sequence)\n",
    "    answer = sequence[0]+sequence[1]+sequence[2]\n",
    "    return answer\n",
    "\n",
    "solution(\"1D#2S*3S\")"
   ]
  }
 ],
 "metadata": {
  "kernelspec": {
   "display_name": "Python 3 (ipykernel)",
   "language": "python",
   "name": "python3"
  },
  "language_info": {
   "codemirror_mode": {
    "name": "ipython",
    "version": 3
   },
   "file_extension": ".py",
   "mimetype": "text/x-python",
   "name": "python",
   "nbconvert_exporter": "python",
   "pygments_lexer": "ipython3",
   "version": "3.9.7"
  }
 },
 "nbformat": 4,
 "nbformat_minor": 5
}
